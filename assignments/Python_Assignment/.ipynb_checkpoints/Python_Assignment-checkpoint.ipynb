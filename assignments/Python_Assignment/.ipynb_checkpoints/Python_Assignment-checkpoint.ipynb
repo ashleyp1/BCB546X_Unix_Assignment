{
 "cells": [
  {
   "cell_type": "markdown",
   "metadata": {},
   "source": [
    "# Python Translate Script\n",
    "\n",
    "### IMPORTANT: install BioPython so that this will work\n",
    "Here's the start of our Python script. Thanks for completing it for me! - Dr. X"
   ]
  },
  {
   "cell_type": "code",
   "execution_count": 1,
   "metadata": {},
   "outputs": [],
   "source": [
    "from Bio import SeqIO\n",
    "from Bio.Seq import Seq\n",
    "from Bio.Alphabet import IUPAC\n",
    "from Bio.Data import CodonTable\n",
    "from Bio.SeqUtils.ProtParam import ProteinAnalysis\n",
    "from Bio.SeqUtils import GC\n",
    "import pandas as pd\n",
    "import matplotlib.pyplot as plt\n",
    "import numpy as np\n",
    "import seaborn as sns"
   ]
  },
  {
   "cell_type": "markdown",
   "metadata": {},
   "source": [
    "# Functions"
   ]
  },
  {
   "cell_type": "markdown",
   "metadata": {},
   "source": [
    "### Part 1\n",
    "Dr. X: this gets sequences "
   ]
  },
  {
   "cell_type": "code",
   "execution_count": 2,
   "metadata": {},
   "outputs": [],
   "source": [
    "def get_sequences_from_file(fasta_fn): ##takes in a fasta file\n",
    "    sequence_data_dict = {} ##creates an empty dictionary\n",
    "    for record in SeqIO.parse(fasta_fn, \"fasta\"): ## takes in fast file and the string fasta\n",
    "        description = record.description.split() ## save the description\n",
    "        species_name = description[1] + \" \" + description[2] ## use part of the description to save the species name\n",
    "        sequence_data_dict[species_name] = record.seq ##add species and record to the dictionary\n",
    "    return(sequence_data_dict)"
   ]
  },
  {
   "cell_type": "markdown",
   "metadata": {},
   "source": [
    "### Part 2\n",
    "String translate function"
   ]
  },
  {
   "cell_type": "code",
   "execution_count": 3,
   "metadata": {},
   "outputs": [],
   "source": [
    "## All sequences start at codon position 1\n",
    "def translate_function(string_nucleotides): \n",
    "    mito_table = CodonTable.unambiguous_dna_by_name[\"Vertebrate Mitochondrial\"]## read in the translation table\n",
    "    aa_seq_string = \"\" ## create empty string\n",
    "    for i in range(0, len(string_nucleotides), 3): ## read through codons on the string, stop at a stop codon\n",
    "        codon = string_nucleotides[i:i+3]\n",
    "        if (codon == \"TAA\" or codon == \"TAG\" or codon == \"AGA\" or codon == \"AGG\"): ## using Vertebrate Mitochondrial stop codons\n",
    "            break\n",
    "        else:\n",
    "            aa_seq_string += mito_table.forward_table[codon]\n",
    "    return(aa_seq_string) ##returns amino acid sequence"
   ]
  },
  {
   "cell_type": "markdown",
   "metadata": {},
   "source": [
    "### Part 3\n",
    "Alternative string translate function"
   ]
  },
  {
   "cell_type": "code",
   "execution_count": 4,
   "metadata": {},
   "outputs": [],
   "source": [
    "## uses biopython\n",
    "def alt_translate_function(string_nucleotides): ## uses biopython\n",
    "    code_dna = Seq(string_nucleotides, IUPAC.unambiguous_dna) ## create a Seq object\n",
    "    alt_aa_string = code_dna.translate(table = \"Vertebrate Mitochondrial\", to_stop = True) ## translate using biopython functions\n",
    "    return (alt_aa_string) ## returns amino acid sequence"
   ]
  },
  {
   "cell_type": "markdown",
   "metadata": {},
   "source": [
    "### Part 4\n",
    "Calculate amino acid molecular weight"
   ]
  },
  {
   "cell_type": "code",
   "execution_count": 5,
   "metadata": {},
   "outputs": [],
   "source": [
    "def compute_molecular_weight(aa_seq):\n",
    "    analysed_seq = ProteinAnalysis(aa_seq) ## uses biopython protein analysis function\n",
    "    mol_weight = analysed_seq.molecular_weight() ## pull molecular weight from analysis object\n",
    "    return (mol_weight)"
   ]
  },
  {
   "cell_type": "markdown",
   "metadata": {},
   "source": [
    "### Part 5\n",
    "Calculate GC content"
   ]
  },
  {
   "cell_type": "code",
   "execution_count": 6,
   "metadata": {},
   "outputs": [],
   "source": [
    "def GC_contents(string_nucleotides):\n",
    "    content = GC(string_nucleotides) ## use biopython processess to get GC content\n",
    "    return content    "
   ]
  },
  {
   "cell_type": "markdown",
   "metadata": {},
   "source": [
    "# Main\n",
    "Bulk of the code"
   ]
  },
  {
   "cell_type": "markdown",
   "metadata": {},
   "source": [
    "### Part 6\n",
    "Upload files and add two new new columns to the bears DataFrame: (1) molecular weight and (2) GC content. Set the value to 'NaN' to indicate that these cells are currently empty."
   ]
  },
  {
   "cell_type": "code",
   "execution_count": 7,
   "metadata": {},
   "outputs": [],
   "source": [
    "cytb_seqs = get_sequences_from_file(\"bears_cytb.fasta\") ## makes a dictionary\n",
    "bears_df = pd.read_csv(\"bears_mass.csv\") ## Includes only data for body mass \n",
    "species_list = list(bears_df.species) ## list of species\n",
    "\n",
    "bears_df['Molecular_Weight'] = 'NaN' ## new column named Molecular_Weight with the value NaN\n",
    "bears_df['GC_Content'] = 'NaN' ##new column named GC_content with the value NaN"
   ]
  },
  {
   "cell_type": "markdown",
   "metadata": {},
   "source": [
    "### Part 7\n",
    "loop through the sequences and get the molecular weight and GC content, save these for each species on the data frame"
   ]
  },
  {
   "cell_type": "code",
   "execution_count": 8,
   "metadata": {},
   "outputs": [],
   "source": [
    "for key, value in cytb_seqs.items(): ## loop through the sequence dictionary\n",
    "    my_seq = str(value) ## save the sequence as a string\n",
    "    aa_seq = translate_function(my_seq) ## translate sequences\n",
    "    mol_weight = compute_molecular_weight(str(aa_seq)) ## get the molecular weight of the amino acid sequence\n",
    "    content = GC_contents(my_seq) ## get the GC content of the original sequence\n",
    "    bears_df.loc[lambda bears_df: bears_df.species == key, 'Molecular_Weight'] = mol_weight ## assign each value under the proper species\n",
    "    bears_df.loc[lambda bears_df: bears_df.species == key, 'GC_Content'] = content"
   ]
  },
  {
   "cell_type": "markdown",
   "metadata": {},
   "source": [
    "### Part 8\n",
    "Plot a bar-chart of the mass with the x-axes labeled with species names. The largest species is *Ursus spelaeus*, also known as the Cave Bear is notable for being very large and being frequently found in caves. It is thought that they spent more time in caves than their modern relatives, because of the large numbers of bones found in caves. They found 140 skeletons in one cave in Romania."
   ]
  },
  {
   "cell_type": "code",
   "execution_count": 9,
   "metadata": {},
   "outputs": [
    {
     "data": {
      "text/plain": [
       "Text(0.5,1,'Bear species vs. mass')"
      ]
     },
     "execution_count": 9,
     "metadata": {},
     "output_type": "execute_result"
    },
    {
     "data": {
      "image/png": "[encoded data removed]",
      "text/plain": [
       "<Figure size 432x288 with 1 Axes>"
      ]
     },
     "metadata": {
      "needs_background": "light"
     },
     "output_type": "display_data"
    }
   ],
   "source": [
    "%matplotlib inline\n",
    " \n",
    "plt.bar(species_list, bears_df.mass, align='center') ## barplot\n",
    "plt.xticks(species_list, rotation = 45, ha = 'right') ## label the bottom, angle them, align them\n",
    "plt.xlabel('Species')\n",
    "plt.ylabel('Mass')\n",
    "plt.title('Bear species vs. mass')"
   ]
  },
  {
   "cell_type": "markdown",
   "metadata": {},
   "source": [
    "### Part 9\n",
    "Molecular weight against GC-content"
   ]
  },
  {
   "cell_type": "code",
   "execution_count": 10,
   "metadata": {},
   "outputs": [
    {
     "data": {
      "text/plain": [
       "<seaborn.axisgrid.FacetGrid at 0x280ff5b3860>"
      ]
     },
     "execution_count": 10,
     "metadata": {},
     "output_type": "execute_result"
    },
    {
     "data": {
      "image/png": "[encoded data removed]",
      "text/plain": [
       "<Figure size 517.125x360 with 1 Axes>"
      ]
     },
     "metadata": {
      "needs_background": "light"
     },
     "output_type": "display_data"
    }
   ],
   "source": [
    "sns.lmplot(\"GC_Content\", \"Molecular_Weight\", data=bears_df, fit_reg=False, \n",
    "           scatter_kws={'alpha':0.3,\"s\": 50}, hue='species') ## scatter plot of mol_weight against GC, color sorted by species"
   ]
  },
  {
   "cell_type": "markdown",
   "metadata": {},
   "source": [
    "### Part 10\n",
    "Save the dataframe as a csv file called \"bears_mass_cytb.csv\""
   ]
  },
  {
   "cell_type": "code",
   "execution_count": 17,
   "metadata": {},
   "outputs": [],
   "source": [
    "bears_df.to_csv(\"bears_mass_cytb.csv\")"
   ]
  },
  {
   "cell_type": "markdown",
   "metadata": {},
   "source": [
    "### Part 11 - BONUS\n",
    "Make a dataframe of the amino acid for each species at each position"
   ]
  },
  {
   "cell_type": "code",
   "execution_count": 12,
   "metadata": {},
   "outputs": [
    {
     "data": {
      "text/plain": [
       "<seaborn.axisgrid.FacetGrid at 0x280ff784748>"
      ]
     },
     "execution_count": 12,
     "metadata": {},
     "output_type": "execute_result"
    },
    {
     "data": {
      "image/png": "[encoded data removed]",
      "text/plain": [
       "<Figure size 426.375x360 with 1 Axes>"
      ]
     },
     "metadata": {
      "needs_background": "light"
     },
     "output_type": "display_data"
    }
   ],
   "source": [
    "aa_df = pd.DataFrame() ##make empty data frame\n",
    "aa_df['Species'] = 'NaN' ## add the columns Species, Position, and Amino Acid\n",
    "aa_df['Position'] = 'NaN'\n",
    "aa_df['Amino_Acid'] = 'NaN'\n",
    "\n",
    "counter = 0\n",
    "\n",
    "for key, value in cytb_seqs.items(): ## loop through the sequence dictionary\n",
    "    my_seq = str(value) ## save the sequence as a string\n",
    "    aa_seq = translate_function(my_seq) ## translate sequences\n",
    "    aa_list = list(aa_seq) ## turn the sequence into and array\n",
    "    counter += 1\n",
    "    for index, item in enumerate(aa_list): ## save each amino acid under the species and position\n",
    "        lista = [key, index]\n",
    "        lista.append(aa_list[index])\n",
    "        counter += 1\n",
    "        aa_df.loc[counter] = lista\n",
    "\n",
    "#graph the amino acid for each position separated by species\n",
    "sns.lmplot('Species', 'Position', data=aa_df, fit_reg=False, hue='Amino_Acid')\n",
    "\n"
   ]
  },
  {
   "cell_type": "markdown",
   "metadata": {},
   "source": [
    "Make a dataframe with species as the row and position as the columns, populated with the amino acids"
   ]
  },
  {
   "cell_type": "code",
   "execution_count": 13,
   "metadata": {},
   "outputs": [
    {
     "data": {
      "text/html": [
       "<div>\n",
       "<style scoped>\n",
       "    .dataframe tbody tr th:only-of-type {\n",
       "        vertical-align: middle;\n",
       "    }\n",
       "\n",
       "    .dataframe tbody tr th {\n",
       "        vertical-align: top;\n",
       "    }\n",
       "\n",
       "    .dataframe thead th {\n",
       "        text-align: right;\n",
       "    }\n",
       "</style>\n",
       "<table border=\"1\" class=\"dataframe\">\n",
       "  <thead>\n",
       "    <tr style=\"text-align: right;\">\n",
       "      <th></th>\n",
       "      <th>0</th>\n",
       "      <th>1</th>\n",
       "      <th>2</th>\n",
       "      <th>3</th>\n",
       "      <th>4</th>\n",
       "      <th>5</th>\n",
       "      <th>6</th>\n",
       "      <th>7</th>\n",
       "      <th>8</th>\n",
       "      <th>9</th>\n",
       "      <th>...</th>\n",
       "      <th>369</th>\n",
       "      <th>370</th>\n",
       "      <th>371</th>\n",
       "      <th>372</th>\n",
       "      <th>373</th>\n",
       "      <th>374</th>\n",
       "      <th>375</th>\n",
       "      <th>376</th>\n",
       "      <th>377</th>\n",
       "      <th>378</th>\n",
       "    </tr>\n",
       "  </thead>\n",
       "  <tbody>\n",
       "    <tr>\n",
       "      <th>Ursus spelaeus</th>\n",
       "      <td>M</td>\n",
       "      <td>T</td>\n",
       "      <td>N</td>\n",
       "      <td>I</td>\n",
       "      <td>R</td>\n",
       "      <td>K</td>\n",
       "      <td>T</td>\n",
       "      <td>H</td>\n",
       "      <td>P</td>\n",
       "      <td>L</td>\n",
       "      <td>...</td>\n",
       "      <td>G</td>\n",
       "      <td>I</td>\n",
       "      <td>I</td>\n",
       "      <td>E</td>\n",
       "      <td>N</td>\n",
       "      <td>N</td>\n",
       "      <td>L</td>\n",
       "      <td>L</td>\n",
       "      <td>K</td>\n",
       "      <td>W</td>\n",
       "    </tr>\n",
       "    <tr>\n",
       "      <th>Ursus arctos</th>\n",
       "      <td>M</td>\n",
       "      <td>T</td>\n",
       "      <td>N</td>\n",
       "      <td>I</td>\n",
       "      <td>R</td>\n",
       "      <td>K</td>\n",
       "      <td>T</td>\n",
       "      <td>H</td>\n",
       "      <td>P</td>\n",
       "      <td>L</td>\n",
       "      <td>...</td>\n",
       "      <td>G</td>\n",
       "      <td>I</td>\n",
       "      <td>I</td>\n",
       "      <td>E</td>\n",
       "      <td>N</td>\n",
       "      <td>N</td>\n",
       "      <td>L</td>\n",
       "      <td>L</td>\n",
       "      <td>K</td>\n",
       "      <td>W</td>\n",
       "    </tr>\n",
       "    <tr>\n",
       "      <th>Ursus thibetanus</th>\n",
       "      <td>M</td>\n",
       "      <td>T</td>\n",
       "      <td>N</td>\n",
       "      <td>I</td>\n",
       "      <td>R</td>\n",
       "      <td>K</td>\n",
       "      <td>T</td>\n",
       "      <td>H</td>\n",
       "      <td>P</td>\n",
       "      <td>L</td>\n",
       "      <td>...</td>\n",
       "      <td>G</td>\n",
       "      <td>I</td>\n",
       "      <td>I</td>\n",
       "      <td>E</td>\n",
       "      <td>N</td>\n",
       "      <td>N</td>\n",
       "      <td>L</td>\n",
       "      <td>S</td>\n",
       "      <td>K</td>\n",
       "      <td>W</td>\n",
       "    </tr>\n",
       "    <tr>\n",
       "      <th>Melursus ursinus</th>\n",
       "      <td>M</td>\n",
       "      <td>T</td>\n",
       "      <td>N</td>\n",
       "      <td>I</td>\n",
       "      <td>R</td>\n",
       "      <td>K</td>\n",
       "      <td>T</td>\n",
       "      <td>H</td>\n",
       "      <td>P</td>\n",
       "      <td>L</td>\n",
       "      <td>...</td>\n",
       "      <td>G</td>\n",
       "      <td>I</td>\n",
       "      <td>I</td>\n",
       "      <td>E</td>\n",
       "      <td>N</td>\n",
       "      <td>N</td>\n",
       "      <td>L</td>\n",
       "      <td>S</td>\n",
       "      <td>K</td>\n",
       "      <td>W</td>\n",
       "    </tr>\n",
       "    <tr>\n",
       "      <th>Ursus americanus</th>\n",
       "      <td>M</td>\n",
       "      <td>T</td>\n",
       "      <td>N</td>\n",
       "      <td>I</td>\n",
       "      <td>R</td>\n",
       "      <td>K</td>\n",
       "      <td>T</td>\n",
       "      <td>H</td>\n",
       "      <td>P</td>\n",
       "      <td>L</td>\n",
       "      <td>...</td>\n",
       "      <td>G</td>\n",
       "      <td>I</td>\n",
       "      <td>I</td>\n",
       "      <td>E</td>\n",
       "      <td>N</td>\n",
       "      <td>N</td>\n",
       "      <td>L</td>\n",
       "      <td>S</td>\n",
       "      <td>K</td>\n",
       "      <td>W</td>\n",
       "    </tr>\n",
       "    <tr>\n",
       "      <th>Helarctos malayanus</th>\n",
       "      <td>M</td>\n",
       "      <td>T</td>\n",
       "      <td>N</td>\n",
       "      <td>I</td>\n",
       "      <td>R</td>\n",
       "      <td>K</td>\n",
       "      <td>T</td>\n",
       "      <td>H</td>\n",
       "      <td>P</td>\n",
       "      <td>L</td>\n",
       "      <td>...</td>\n",
       "      <td>G</td>\n",
       "      <td>I</td>\n",
       "      <td>I</td>\n",
       "      <td>E</td>\n",
       "      <td>N</td>\n",
       "      <td>N</td>\n",
       "      <td>L</td>\n",
       "      <td>S</td>\n",
       "      <td>K</td>\n",
       "      <td>W</td>\n",
       "    </tr>\n",
       "    <tr>\n",
       "      <th>Ailuropoda melanoleuca</th>\n",
       "      <td>M</td>\n",
       "      <td>I</td>\n",
       "      <td>N</td>\n",
       "      <td>I</td>\n",
       "      <td>R</td>\n",
       "      <td>K</td>\n",
       "      <td>T</td>\n",
       "      <td>H</td>\n",
       "      <td>P</td>\n",
       "      <td>L</td>\n",
       "      <td>...</td>\n",
       "      <td>S</td>\n",
       "      <td>I</td>\n",
       "      <td>I</td>\n",
       "      <td>E</td>\n",
       "      <td>N</td>\n",
       "      <td>S</td>\n",
       "      <td>L</td>\n",
       "      <td>S</td>\n",
       "      <td>K</td>\n",
       "      <td>W</td>\n",
       "    </tr>\n",
       "    <tr>\n",
       "      <th>Tremarctos ornatus</th>\n",
       "      <td>M</td>\n",
       "      <td>T</td>\n",
       "      <td>N</td>\n",
       "      <td>I</td>\n",
       "      <td>R</td>\n",
       "      <td>K</td>\n",
       "      <td>T</td>\n",
       "      <td>H</td>\n",
       "      <td>P</td>\n",
       "      <td>L</td>\n",
       "      <td>...</td>\n",
       "      <td>G</td>\n",
       "      <td>I</td>\n",
       "      <td>I</td>\n",
       "      <td>E</td>\n",
       "      <td>N</td>\n",
       "      <td>N</td>\n",
       "      <td>L</td>\n",
       "      <td>S</td>\n",
       "      <td>K</td>\n",
       "      <td>W</td>\n",
       "    </tr>\n",
       "    <tr>\n",
       "      <th>Ursus maritimus</th>\n",
       "      <td>M</td>\n",
       "      <td>T</td>\n",
       "      <td>N</td>\n",
       "      <td>I</td>\n",
       "      <td>R</td>\n",
       "      <td>K</td>\n",
       "      <td>T</td>\n",
       "      <td>H</td>\n",
       "      <td>P</td>\n",
       "      <td>L</td>\n",
       "      <td>...</td>\n",
       "      <td>G</td>\n",
       "      <td>I</td>\n",
       "      <td>I</td>\n",
       "      <td>E</td>\n",
       "      <td>N</td>\n",
       "      <td>N</td>\n",
       "      <td>L</td>\n",
       "      <td>L</td>\n",
       "      <td>K</td>\n",
       "      <td>W</td>\n",
       "    </tr>\n",
       "  </tbody>\n",
       "</table>\n",
       "<p>9 rows × 379 columns</p>\n",
       "</div>"
      ],
      "text/plain": [
       "                       0   1   2   3   4   5   6   7   8   9   ... 369 370  \\\n",
       "Ursus spelaeus           M   T   N   I   R   K   T   H   P   L ...   G   I   \n",
       "Ursus arctos             M   T   N   I   R   K   T   H   P   L ...   G   I   \n",
       "Ursus thibetanus         M   T   N   I   R   K   T   H   P   L ...   G   I   \n",
       "Melursus ursinus         M   T   N   I   R   K   T   H   P   L ...   G   I   \n",
       "Ursus americanus         M   T   N   I   R   K   T   H   P   L ...   G   I   \n",
       "Helarctos malayanus      M   T   N   I   R   K   T   H   P   L ...   G   I   \n",
       "Ailuropoda melanoleuca   M   I   N   I   R   K   T   H   P   L ...   S   I   \n",
       "Tremarctos ornatus       M   T   N   I   R   K   T   H   P   L ...   G   I   \n",
       "Ursus maritimus          M   T   N   I   R   K   T   H   P   L ...   G   I   \n",
       "\n",
       "                       371 372 373 374 375 376 377 378  \n",
       "Ursus spelaeus           I   E   N   N   L   L   K   W  \n",
       "Ursus arctos             I   E   N   N   L   L   K   W  \n",
       "Ursus thibetanus         I   E   N   N   L   S   K   W  \n",
       "Melursus ursinus         I   E   N   N   L   S   K   W  \n",
       "Ursus americanus         I   E   N   N   L   S   K   W  \n",
       "Helarctos malayanus      I   E   N   N   L   S   K   W  \n",
       "Ailuropoda melanoleuca   I   E   N   S   L   S   K   W  \n",
       "Tremarctos ornatus       I   E   N   N   L   S   K   W  \n",
       "Ursus maritimus          I   E   N   N   L   L   K   W  \n",
       "\n",
       "[9 rows x 379 columns]"
      ]
     },
     "execution_count": 13,
     "metadata": {},
     "output_type": "execute_result"
    }
   ],
   "source": [
    "aa2_df = pd.DataFrame(index = species_list) ##new dataframe with species as the row names\n",
    "\n",
    "for key, value in cytb_seqs.items(): ## loop through the sequence dictionary\n",
    "    my_seq = str(value) ## save the sequence as a string\n",
    "    aa_seq = translate_function(my_seq) ## translate sequences\n",
    "    aa_list = list(aa_seq) ## turn the sequence into and array\n",
    "    for i in range(0, len(aa_list)): ## save each amino acid in its position and species\n",
    "        aa2_df.loc[lambda aa2_df: aa2_df.index == key, i] = aa_list[i]\n",
    "aa2_df"
   ]
  },
  {
   "cell_type": "markdown",
   "metadata": {},
   "source": [
    "Make a list of the number of unique amino acids at each position "
   ]
  },
  {
   "cell_type": "code",
   "execution_count": 15,
   "metadata": {},
   "outputs": [],
   "source": [
    "uniq_list = [] ##make an empty list\n",
    "for i in range(379): ##go through each column in the dataframe, count how many unique values are ther\n",
    "    uniq_list.append(len(aa2_df[i].unique().tolist())) ## and save them to a list"
   ]
  },
  {
   "cell_type": "code",
   "execution_count": null,
   "metadata": {},
   "outputs": [],
   "source": []
  }
 ],
 "metadata": {
  "kernelspec": {
   "display_name": "Python 3",
   "language": "python",
   "name": "python3"
  },
  "language_info": {
   "codemirror_mode": {
    "name": "ipython",
    "version": 3
   },
   "file_extension": ".py",
   "mimetype": "text/x-python",
   "name": "python",
   "nbconvert_exporter": "python",
   "pygments_lexer": "ipython3",
   "version": "3.7.0"
  }
 },
 "nbformat": 4,
 "nbformat_minor": 2
}
